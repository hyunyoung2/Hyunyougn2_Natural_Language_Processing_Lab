{
 "cells": [
  {
   "cell_type": "code",
   "execution_count": 33,
   "metadata": {},
   "outputs": [
    {
     "name": "stdout",
     "output_type": "stream",
     "text": [
      "python : 3.5.2 (default, Nov 17 2016, 17:05:23) \n",
      "[GCC 5.4.0 20160609]\n",
      "\n",
      "The location of current Directory : /home/hyunyoung2/my-jupyter/tensorflow\n",
      "\n",
      "\n",
      "The location for New Directory : /home/hyunyoung2/my-jupyter/tensorflow/MNIST_Dataset\n",
      "The location for New Directory : /home/hyunyoung2/my-jupyter/tensorflow/CIFAR_10_Dataset\n",
      "The location for New Directory : /home/hyunyoung2/my-jupyter/tensorflow/CIRFAR_100_Dataset\n",
      "\n",
      "Currently, (/home/hyunyoung2/my-jupyter/tensorflow/MNIST_Dataset) exist\n",
      "Currently, (/home/hyunyoung2/my-jupyter/tensorflow/CIFAR_10_Dataset) exist\n",
      "Currently, (/home/hyunyoung2/my-jupyter/tensorflow/CIRFAR_100_Dataset) exist\n",
      "\n"
     ]
    }
   ],
   "source": [
    "# If you start the python setting \n",
    "# help(os-python keyword)\n",
    "\n",
    "# In order to check the version of python \n",
    "import sys\n",
    "print (\"python :\" , sys.version)\n",
    "print () # for newline \n",
    "\n",
    "# In order to Create Directory to store material\n",
    "import os \n",
    "\n",
    "name_dir = [\"MNIST_Dataset\", \"CIFAR_10_Dataset\", \"CIRFAR_100_Dataset\"]\n",
    "\n",
    "# Get current Directory from \"https://stackoverflow.com/questions/5137497/find-current-directory-and-files-directory\"\n",
    "current_dir = os.getcwd()\n",
    "print (\"The location of current Directory :\", current_dir)\n",
    "print () # for nweline\n",
    "\n",
    "# Checking Whether all the Directory exist already\n",
    "for i in range(3) :\n",
    "    new_dir = current_dir+\"/\"+name_dir[i]\n",
    "    if not os.path.isdir(new_dir) :\n",
    "        print (\"Currently, (%s) doesn't exist\" % new_dir)\n",
    "print () # for nweline\n",
    "\n",
    "# Create new Directory from \"https://stackoverflow.com/questions/1274405/how-to-create-new-folder\"\n",
    "for i in range(3) :\n",
    "    new_dir = current_dir+\"/\"+name_dir[i]\n",
    "    print(\"The location for New Directory :\", new_dir)\n",
    "    if not os.path.exists(new_dir):\n",
    "        os.makedirs(new_dir)\n",
    "print () # for nweline\n",
    "        \n",
    "# Finally, Checking whether the directories is made or not\n",
    "for i in range(3) :\n",
    "    new_dir = current_dir+\"/\"+name_dir[i]\n",
    "    if os.path.isdir(new_dir) :\n",
    "        print (\"Currently, (%s) exist\" % new_dir)    \n",
    "print () # for nweline\n"
   ]
  }
 ],
 "metadata": {
  "kernelspec": {
   "display_name": "Python 3",
   "language": "python",
   "name": "python3"
  },
  "language_info": {
   "codemirror_mode": {
    "name": "ipython",
    "version": 3
   },
   "file_extension": ".py",
   "mimetype": "text/x-python",
   "name": "python",
   "nbconvert_exporter": "python",
   "pygments_lexer": "ipython3",
   "version": "3.5.2"
  }
 },
 "nbformat": 4,
 "nbformat_minor": 2
}
